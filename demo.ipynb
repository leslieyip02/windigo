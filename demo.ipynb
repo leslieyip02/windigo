{
 "cells": [
  {
   "cell_type": "markdown",
   "metadata": {},
   "source": [
    "# FFT Analysis\n",
    "\n",
    "This notebook is meant for analysing `.wav` samples with Python. The `preview` function allows easy inspection of audio files by plotting graphs of amplitude against time and frequency.\n",
    "\n",
    "### ⚠️ Volume Warning\n",
    "You should turn down your volume if you are wearing headphones."
   ]
  },
  {
   "cell_type": "code",
   "execution_count": 7,
   "metadata": {},
   "outputs": [],
   "source": [
    "import os\n",
    "\n",
    "from IPython import display\n",
    "import matplotlib.pyplot as plt\n",
    "import numpy as np\n",
    "import pandas as pd\n",
    "from scipy.fft import rfft, rfft2, rfftfreq\n",
    "from scipy.io import wavfile"
   ]
  },
  {
   "cell_type": "code",
   "execution_count": 8,
   "metadata": {},
   "outputs": [],
   "source": [
    "# plot amplitude against time and amplitude against frequency graphs\n",
    "def preview(\n",
    "    filename,\n",
    "    bits_per_sample=8,\n",
    "    amplitude_range=(0, 1000),\n",
    "    frequency_range=(0, 1000),\n",
    "):\n",
    "    # display.display(display.Audio(filename))\n",
    "\n",
    "    sample_rate, data = wavfile.read(filename)\n",
    "    num_samples = len(data)\n",
    "    num_channels = 1 if len(data.shape) == 1 else data.shape[1]\n",
    "    duration = num_samples / sample_rate\n",
    "\n",
    "    x1 = np.linspace(0, duration, num_samples, endpoint=False)\n",
    "    # normalize values\n",
    "    if bits_per_sample == 8:\n",
    "        y1 = (data / 255 * 2 - 1)\n",
    "    elif bits_per_sample == 16:\n",
    "        y1 = data / 32768\n",
    "    elif bits_per_sample == 32:\n",
    "        y1 = data / 2147483648\n",
    "    else:\n",
    "        raise NotImplementedError(\"Only available for 8-bit, 16-bit and 32-bit\")\n",
    "\n",
    "    # amplitude against time\n",
    "    plt.figure(figsize=(16, 4))\n",
    "    plt.subplot(1, 2, 1)\n",
    "    plt.title(\"Amplitude against Time\")\n",
    "    plt.xlabel(\"Time (s)\")\n",
    "    plt.ylabel(\"Normalized amplitude\")\n",
    "    plt.axhline(0, linestyle='--').set_color('black')\n",
    "    begin, end = amplitude_range \n",
    "    plt.plot(x1[begin: end], y1[begin:end])\n",
    "\n",
    "    x2 = rfftfreq(num_samples, 1 / sample_rate)\n",
    "    y2 = rfft2(y1) if num_channels == 2 else rfft(y1)\n",
    "\n",
    "    # amplitude against frequency bins\n",
    "    plt.subplot(1, 2, 2)\n",
    "    plt.title(\"Amplitude against Frequency\")\n",
    "    plt.xlabel(\"Frequency (Hz)\")\n",
    "    plt.ylabel(\"Normalized amplitude\")\n",
    "    begin, end = frequency_range \n",
    "    plt.plot(x2[begin:end], np.abs(y2[begin:end]))\n",
    "\n",
    "    plt.show()"
   ]
  },
  {
   "cell_type": "markdown",
   "metadata": {},
   "source": [
    "### 8-bit Audio\n",
    "\n",
    "`samples/8-bit.wav` is an 8-bit audio file with a pure tone of A4 (440 Hz)."
   ]
  },
  {
   "cell_type": "code",
   "execution_count": null,
   "metadata": {},
   "outputs": [],
   "source": [
    "preview(\"samples/8-bit/a.wav\", amplitude_range=(0, 800))"
   ]
  },
  {
   "cell_type": "code",
   "execution_count": null,
   "metadata": {},
   "outputs": [],
   "source": [
    "for file in os.listdir(\"demo/8-bit\"):\n",
    "    if file.endswith(\".wav\"):\n",
    "        print(f\"Shifted by {file[1:3]} step(s):\")\n",
    "        preview(f\"demo/8-bit/{file}\", amplitude_range=(0, 800))"
   ]
  },
  {
   "cell_type": "markdown",
   "metadata": {},
   "source": [
    "### 16-bit Audio"
   ]
  },
  {
   "cell_type": "code",
   "execution_count": null,
   "metadata": {},
   "outputs": [],
   "source": [
    "preview(\"samples/16-bit/acoustic-guitar.wav\", bits_per_sample=16, amplitude_range=(0, 2500))\n",
    "preview(\"demo/16-bit/acoustic-guitar+1.wav\", bits_per_sample=16, amplitude_range=(0, 2500))\n",
    "preview(\"samples/16-bit/clean-guitar.wav\", bits_per_sample=16, amplitude_range=(0, 2500))\n",
    "preview(\"demo/16-bit/clean-guitar-1.wav\", bits_per_sample=16, amplitude_range=(0, 2500))"
   ]
  },
  {
   "cell_type": "markdown",
   "metadata": {},
   "source": [
    "### 32-bit Audio"
   ]
  },
  {
   "cell_type": "code",
   "execution_count": null,
   "metadata": {},
   "outputs": [],
   "source": [
    "preview(\"samples/32-bit/acoustic-guitar.wav\", bits_per_sample=32, amplitude_range=(0, 2500))\n",
    "preview(\"demo/32-bit/acoustic-guitar+1.wav\", bits_per_sample=32, amplitude_range=(0, 2500))\n",
    "preview(\"samples/32-bit/clean-guitar.wav\", bits_per_sample=32, amplitude_range=(0, 2500))\n",
    "preview(\"demo/32-bit/clean-guitar-1.wav\", bits_per_sample=32, amplitude_range=(0, 2500))"
   ]
  }
 ],
 "metadata": {
  "kernelspec": {
   "display_name": ".venv",
   "language": "python",
   "name": "python3"
  },
  "language_info": {
   "codemirror_mode": {
    "name": "ipython",
    "version": 3
   },
   "file_extension": ".py",
   "mimetype": "text/x-python",
   "name": "python",
   "nbconvert_exporter": "python",
   "pygments_lexer": "ipython3",
   "version": "3.11.9"
  }
 },
 "nbformat": 4,
 "nbformat_minor": 2
}
